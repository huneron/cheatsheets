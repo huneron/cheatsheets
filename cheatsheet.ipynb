{
 "cells": [
  {
   "cell_type": "markdown",
   "id": "5a222373",
   "metadata": {},
   "source": [
    "### INSTALLING NumPy\n",
    "pip install numpy"
   ]
  },
  {
   "cell_type": "markdown",
   "id": "1cd5cad8",
   "metadata": {},
   "source": [
    "### NumPy CODEBASE\n",
    "https://github.com/numpy/numpy"
   ]
  },
  {
   "cell_type": "markdown",
   "id": "ed432b4f",
   "metadata": {},
   "source": [
    "### IMPORTING NumPY"
   ]
  },
  {
   "cell_type": "code",
   "execution_count": 1,
   "id": "7302df57",
   "metadata": {},
   "outputs": [],
   "source": [
    "import numpy as np"
   ]
  },
  {
   "cell_type": "markdown",
   "id": "2c9cf2a4",
   "metadata": {},
   "source": [
    "### CREATING NumPy ARRAYS"
   ]
  },
  {
   "cell_type": "code",
   "execution_count": 2,
   "id": "ec020bb2",
   "metadata": {},
   "outputs": [
    {
     "data": {
      "text/plain": [
       "array([1, 2, 3])"
      ]
     },
     "execution_count": 2,
     "metadata": {},
     "output_type": "execute_result"
    }
   ],
   "source": [
    "# From Python List\n",
    "np.array([1, 2, 3])"
   ]
  },
  {
   "cell_type": "code",
   "execution_count": 3,
   "id": "7046faac",
   "metadata": {},
   "outputs": [
    {
     "data": {
      "text/plain": [
       "array([0., 0., 0., 0., 0.])"
      ]
     },
     "execution_count": 3,
     "metadata": {},
     "output_type": "execute_result"
    }
   ],
   "source": [
    "# 1D Array with Zeros\n",
    "np.zeros(5)"
   ]
  },
  {
   "cell_type": "code",
   "execution_count": 4,
   "id": "cd06b4f5",
   "metadata": {},
   "outputs": [
    {
     "data": {
      "text/plain": [
       "array([[1., 1., 1.],\n",
       "       [1., 1., 1.]])"
      ]
     },
     "execution_count": 4,
     "metadata": {},
     "output_type": "execute_result"
    }
   ],
   "source": [
    "# 2D Array with Ones\n",
    "np.ones((2, 3))"
   ]
  },
  {
   "cell_type": "code",
   "execution_count": 5,
   "id": "350df435",
   "metadata": {},
   "outputs": [
    {
     "data": {
      "text/plain": [
       "array([ 0.        ,  2.22222222,  4.44444444,  6.66666667,  8.88888889,\n",
       "       11.11111111, 13.33333333, 15.55555556, 17.77777778, 20.        ])"
      ]
     },
     "execution_count": 5,
     "metadata": {},
     "output_type": "execute_result"
    }
   ],
   "source": [
    "# Array with Linspace\n",
    "np.linspace(0, 20, num=10)"
   ]
  },
  {
   "cell_type": "code",
   "execution_count": 6,
   "id": "a1776d5d",
   "metadata": {},
   "outputs": [
    {
     "data": {
      "text/plain": [
       "array([0, 1, 2, 3, 4, 5, 6, 7, 8, 9])"
      ]
     },
     "execution_count": 6,
     "metadata": {},
     "output_type": "execute_result"
    }
   ],
   "source": [
    "# Array with a Range\n",
    "np.arange(10)"
   ]
  },
  {
   "cell_type": "code",
   "execution_count": 7,
   "id": "eb69e6a8",
   "metadata": {},
   "outputs": [
    {
     "data": {
      "text/plain": [
       "array([ 5, 10, 15, 20, 25, 30, 35, 40, 45, 50])"
      ]
     },
     "execution_count": 7,
     "metadata": {},
     "output_type": "execute_result"
    }
   ],
   "source": [
    "# Array with a Range and a Step\n",
    "np.arange(5, 51, 5)"
   ]
  },
  {
   "cell_type": "code",
   "execution_count": 8,
   "id": "50d0ad6c",
   "metadata": {},
   "outputs": [
    {
     "data": {
      "text/plain": [
       "array([[0.10897299, 0.57356086],\n",
       "       [0.21745872, 0.49868167],\n",
       "       [0.74864739, 0.57072236]])"
      ]
     },
     "execution_count": 8,
     "metadata": {},
     "output_type": "execute_result"
    }
   ],
   "source": [
    "# Array with Random Values\n",
    "np.random.rand(3, 2)"
   ]
  },
  {
   "cell_type": "code",
   "execution_count": 9,
   "id": "b0158915",
   "metadata": {},
   "outputs": [
    {
     "data": {
      "text/plain": [
       "array([[1, 2],\n",
       "       [3, 4]])"
      ]
     },
     "execution_count": 9,
     "metadata": {},
     "output_type": "execute_result"
    }
   ],
   "source": [
    "# Array with Custom Values\n",
    "np.array([[1, 2], [3, 4]])"
   ]
  },
  {
   "cell_type": "markdown",
   "id": "f9ae3a3d",
   "metadata": {},
   "source": [
    "### ACCESSING ELEMENTS IN ARRAYS"
   ]
  },
  {
   "cell_type": "code",
   "execution_count": 10,
   "id": "97b3a3bf",
   "metadata": {},
   "outputs": [],
   "source": [
    "# Array\n",
    "arr1 = np.array([1, 2, 3])"
   ]
  },
  {
   "cell_type": "code",
   "execution_count": 11,
   "id": "d6b5f77d",
   "metadata": {},
   "outputs": [
    {
     "data": {
      "text/plain": [
       "1"
      ]
     },
     "execution_count": 11,
     "metadata": {},
     "output_type": "execute_result"
    }
   ],
   "source": [
    "# Access the first element\n",
    "arr1[0]"
   ]
  },
  {
   "cell_type": "code",
   "execution_count": 12,
   "id": "10e7fb37",
   "metadata": {},
   "outputs": [
    {
     "data": {
      "text/plain": [
       "array([2, 3])"
      ]
     },
     "execution_count": 12,
     "metadata": {},
     "output_type": "execute_result"
    }
   ],
   "source": [
    "# Access elements from index 1 to 3\n",
    "arr1[1:3]"
   ]
  },
  {
   "cell_type": "code",
   "execution_count": 13,
   "id": "e298a281",
   "metadata": {},
   "outputs": [
    {
     "data": {
      "text/plain": [
       "array([1, 2])"
      ]
     },
     "execution_count": 13,
     "metadata": {},
     "output_type": "execute_result"
    }
   ],
   "source": [
    "# Access elements from the start to index 2\n",
    "arr1[:2]"
   ]
  },
  {
   "cell_type": "code",
   "execution_count": 14,
   "id": "e2e614bf",
   "metadata": {},
   "outputs": [
    {
     "data": {
      "text/plain": [
       "array([2, 3])"
      ]
     },
     "execution_count": 14,
     "metadata": {},
     "output_type": "execute_result"
    }
   ],
   "source": [
    "# Access elements from index 1 to the end\n",
    "arr1[1:]"
   ]
  },
  {
   "cell_type": "code",
   "execution_count": 15,
   "id": "2c11498c",
   "metadata": {},
   "outputs": [
    {
     "data": {
      "text/plain": [
       "3"
      ]
     },
     "execution_count": 15,
     "metadata": {},
     "output_type": "execute_result"
    }
   ],
   "source": [
    "# Access the last element\n",
    "arr1[-1]"
   ]
  },
  {
   "cell_type": "markdown",
   "id": "9cf426b2",
   "metadata": {},
   "source": [
    "### SLICING"
   ]
  },
  {
   "cell_type": "code",
   "execution_count": 16,
   "id": "3ff1ab63",
   "metadata": {},
   "outputs": [],
   "source": [
    "# Array \n",
    "arr2 = np.array([[1, 2, 3], [4, 5, 6], [7, 8, 9]])"
   ]
  },
  {
   "cell_type": "code",
   "execution_count": 17,
   "id": "b1d54f1c",
   "metadata": {},
   "outputs": [
    {
     "data": {
      "text/plain": [
       "array([[4, 5, 6],\n",
       "       [7, 8, 9]])"
      ]
     },
     "execution_count": 17,
     "metadata": {},
     "output_type": "execute_result"
    }
   ],
   "source": [
    "# Slice rows from index 1 to 2\n",
    "arr2[1:3, :]"
   ]
  },
  {
   "cell_type": "code",
   "execution_count": 18,
   "id": "6f7e2ba5",
   "metadata": {},
   "outputs": [
    {
     "data": {
      "text/plain": [
       "array([[1, 2],\n",
       "       [4, 5],\n",
       "       [7, 8]])"
      ]
     },
     "execution_count": 18,
     "metadata": {},
     "output_type": "execute_result"
    }
   ],
   "source": [
    "# Slice columns from index 0 to 1\n",
    "arr2[:, 0:2]"
   ]
  },
  {
   "cell_type": "markdown",
   "id": "368bc3a4",
   "metadata": {},
   "source": [
    "### CONCATENATING"
   ]
  },
  {
   "cell_type": "code",
   "execution_count": 19,
   "id": "c1913bfb",
   "metadata": {},
   "outputs": [],
   "source": [
    "# Arrays\n",
    "a1 = np.array([1, 2, 3])\n",
    "b1 = np.array([4, 5, 6])"
   ]
  },
  {
   "cell_type": "code",
   "execution_count": 20,
   "id": "5191dae4",
   "metadata": {},
   "outputs": [
    {
     "data": {
      "text/plain": [
       "array([1, 2, 3, 4, 5, 6])"
      ]
     },
     "execution_count": 20,
     "metadata": {},
     "output_type": "execute_result"
    }
   ],
   "source": [
    "# Concatenate\n",
    "np.concatenate((a1, b1))"
   ]
  },
  {
   "cell_type": "code",
   "execution_count": 21,
   "id": "989dbd01",
   "metadata": {},
   "outputs": [
    {
     "data": {
      "text/plain": [
       "array([[1, 2, 3],\n",
       "       [4, 5, 6]])"
      ]
     },
     "execution_count": 21,
     "metadata": {},
     "output_type": "execute_result"
    }
   ],
   "source": [
    "# Vertical\n",
    "np.vstack((a1, b1))"
   ]
  },
  {
   "cell_type": "code",
   "execution_count": 22,
   "id": "fc63fa5e",
   "metadata": {},
   "outputs": [
    {
     "data": {
      "text/plain": [
       "array([1, 2, 3, 4, 5, 6])"
      ]
     },
     "execution_count": 22,
     "metadata": {},
     "output_type": "execute_result"
    }
   ],
   "source": [
    "# Horizontal\n",
    "np.hstack((a1, b1))"
   ]
  },
  {
   "cell_type": "markdown",
   "id": "6202d0e6",
   "metadata": {},
   "source": [
    "### STACKING"
   ]
  },
  {
   "cell_type": "code",
   "execution_count": 23,
   "id": "5b01df1c",
   "metadata": {},
   "outputs": [],
   "source": [
    "# Arrays\n",
    "a2 = np.array([1, 2, 3])\n",
    "b2 = np.array([4, 5, 6])"
   ]
  },
  {
   "cell_type": "code",
   "execution_count": 24,
   "id": "ccb3a59d",
   "metadata": {},
   "outputs": [
    {
     "data": {
      "text/plain": [
       "array([[1, 2, 3],\n",
       "       [4, 5, 6]])"
      ]
     },
     "execution_count": 24,
     "metadata": {},
     "output_type": "execute_result"
    }
   ],
   "source": [
    "# with axis 0\n",
    "np.stack((a2, b2), axis=0)"
   ]
  },
  {
   "cell_type": "code",
   "execution_count": 25,
   "id": "f958163e",
   "metadata": {},
   "outputs": [
    {
     "data": {
      "text/plain": [
       "array([[1, 4],\n",
       "       [2, 5],\n",
       "       [3, 6]])"
      ]
     },
     "execution_count": 25,
     "metadata": {},
     "output_type": "execute_result"
    }
   ],
   "source": [
    "# with axis 1\n",
    "np.stack((a2, b2), axis=1)"
   ]
  },
  {
   "cell_type": "markdown",
   "id": "67502e21",
   "metadata": {},
   "source": [
    "### SPILITING"
   ]
  },
  {
   "cell_type": "code",
   "execution_count": 26,
   "id": "586bcdc2",
   "metadata": {},
   "outputs": [],
   "source": [
    "# Arrray\n",
    "arr3 = np.array([1, 2, 3, 4, 5, 6])"
   ]
  },
  {
   "cell_type": "code",
   "execution_count": 27,
   "id": "0c7267e8",
   "metadata": {},
   "outputs": [
    {
     "data": {
      "text/plain": [
       "[array([1, 2]), array([3, 4]), array([5, 6])]"
      ]
     },
     "execution_count": 27,
     "metadata": {},
     "output_type": "execute_result"
    }
   ],
   "source": [
    "np.split(arr3, 3)"
   ]
  },
  {
   "cell_type": "code",
   "execution_count": 28,
   "id": "916909a4",
   "metadata": {},
   "outputs": [
    {
     "name": "stdout",
     "output_type": "stream",
     "text": [
      "[array([1, 2]), array([3, 4]), array([5, 6])]\n"
     ]
    }
   ],
   "source": [
    "print(np.split(arr3, [2, 4]))"
   ]
  },
  {
   "cell_type": "markdown",
   "id": "40c255d9",
   "metadata": {},
   "source": [
    "### BROADCASTING"
   ]
  },
  {
   "cell_type": "code",
   "execution_count": 29,
   "id": "9679f29b",
   "metadata": {},
   "outputs": [],
   "source": [
    "a3 = np.array([1, 2, 3])\n",
    "b3 = 2"
   ]
  },
  {
   "cell_type": "code",
   "execution_count": 30,
   "id": "4322a61c",
   "metadata": {},
   "outputs": [
    {
     "data": {
      "text/plain": [
       "array([2, 4, 6])"
      ]
     },
     "execution_count": 30,
     "metadata": {},
     "output_type": "execute_result"
    }
   ],
   "source": [
    "# Multiply \n",
    "a3 * b3"
   ]
  },
  {
   "cell_type": "code",
   "execution_count": 31,
   "id": "3d19c0d7",
   "metadata": {},
   "outputs": [
    {
     "data": {
      "text/plain": [
       "array([3, 4, 5])"
      ]
     },
     "execution_count": 31,
     "metadata": {},
     "output_type": "execute_result"
    }
   ],
   "source": [
    "# Plus\n",
    "a3 + b3"
   ]
  },
  {
   "cell_type": "markdown",
   "id": "f3369c5a",
   "metadata": {},
   "source": [
    "### UNIVERSAL FUNCTIONS"
   ]
  },
  {
   "cell_type": "code",
   "execution_count": 32,
   "id": "060fbf42",
   "metadata": {},
   "outputs": [],
   "source": [
    "# Array \n",
    "arr4 = np.array([1, 2, 3])"
   ]
  },
  {
   "cell_type": "code",
   "execution_count": 33,
   "id": "62cee36d",
   "metadata": {},
   "outputs": [
    {
     "data": {
      "text/plain": [
       "array([0.84147098, 0.90929743, 0.14112001])"
      ]
     },
     "execution_count": 33,
     "metadata": {},
     "output_type": "execute_result"
    }
   ],
   "source": [
    "# Sine\n",
    "np.sin(arr4)"
   ]
  },
  {
   "cell_type": "code",
   "execution_count": 34,
   "id": "65110d1f",
   "metadata": {},
   "outputs": [
    {
     "data": {
      "text/plain": [
       "array([ 0.54030231, -0.41614684, -0.9899925 ])"
      ]
     },
     "execution_count": 34,
     "metadata": {},
     "output_type": "execute_result"
    }
   ],
   "source": [
    "# Cosine \n",
    "np.cos(arr4)"
   ]
  },
  {
   "cell_type": "code",
   "execution_count": 35,
   "id": "ad62e060",
   "metadata": {},
   "outputs": [
    {
     "data": {
      "text/plain": [
       "array([ 2.71828183,  7.3890561 , 20.08553692])"
      ]
     },
     "execution_count": 35,
     "metadata": {},
     "output_type": "execute_result"
    }
   ],
   "source": [
    "# Exponential\n",
    "np.exp(arr4)"
   ]
  },
  {
   "cell_type": "markdown",
   "id": "5536b4e7",
   "metadata": {},
   "source": [
    "### AGGREGATE FUNCTIONS"
   ]
  },
  {
   "cell_type": "code",
   "execution_count": 36,
   "id": "7f2e65b8",
   "metadata": {},
   "outputs": [],
   "source": [
    "# Array \n",
    "arr5 = np.array([1, 2, 3])"
   ]
  },
  {
   "cell_type": "code",
   "execution_count": 37,
   "id": "36f13b02",
   "metadata": {},
   "outputs": [
    {
     "data": {
      "text/plain": [
       "1"
      ]
     },
     "execution_count": 37,
     "metadata": {},
     "output_type": "execute_result"
    }
   ],
   "source": [
    "# Minimum\n",
    "arr5.min()"
   ]
  },
  {
   "cell_type": "code",
   "execution_count": 38,
   "id": "eed56fcc",
   "metadata": {},
   "outputs": [
    {
     "data": {
      "text/plain": [
       "3"
      ]
     },
     "execution_count": 38,
     "metadata": {},
     "output_type": "execute_result"
    }
   ],
   "source": [
    "# Maxiumum\n",
    "arr5.max()"
   ]
  },
  {
   "cell_type": "code",
   "execution_count": 39,
   "id": "cba7cac5",
   "metadata": {},
   "outputs": [
    {
     "data": {
      "text/plain": [
       "0.6666666666666666"
      ]
     },
     "execution_count": 39,
     "metadata": {},
     "output_type": "execute_result"
    }
   ],
   "source": [
    "# Varience\n",
    "arr5.var()"
   ]
  },
  {
   "cell_type": "code",
   "execution_count": 40,
   "id": "0d59803c",
   "metadata": {},
   "outputs": [
    {
     "data": {
      "text/plain": [
       "6"
      ]
     },
     "execution_count": 40,
     "metadata": {},
     "output_type": "execute_result"
    }
   ],
   "source": [
    "# Sum\n",
    "arr5.sum()"
   ]
  },
  {
   "cell_type": "code",
   "execution_count": 41,
   "id": "8b896ee9",
   "metadata": {},
   "outputs": [
    {
     "data": {
      "text/plain": [
       "2.0"
      ]
     },
     "execution_count": 41,
     "metadata": {},
     "output_type": "execute_result"
    }
   ],
   "source": [
    "# Mean\n",
    "arr5.mean()"
   ]
  },
  {
   "cell_type": "code",
   "execution_count": 42,
   "id": "85a35a2b",
   "metadata": {},
   "outputs": [
    {
     "data": {
      "text/plain": [
       "0.816496580927726"
      ]
     },
     "execution_count": 42,
     "metadata": {},
     "output_type": "execute_result"
    }
   ],
   "source": [
    "# Standard Deviation\n",
    "arr5.std()"
   ]
  },
  {
   "cell_type": "code",
   "execution_count": 43,
   "id": "c6110367",
   "metadata": {},
   "outputs": [
    {
     "data": {
      "text/plain": [
       "True"
      ]
     },
     "execution_count": 43,
     "metadata": {},
     "output_type": "execute_result"
    }
   ],
   "source": [
    "# Any\n",
    "arr5.any()"
   ]
  },
  {
   "cell_type": "code",
   "execution_count": 44,
   "id": "d628b024",
   "metadata": {},
   "outputs": [
    {
     "data": {
      "text/plain": [
       "True"
      ]
     },
     "execution_count": 44,
     "metadata": {},
     "output_type": "execute_result"
    }
   ],
   "source": [
    "# All\n",
    "arr5.all()"
   ]
  },
  {
   "cell_type": "code",
   "execution_count": 45,
   "id": "4316f3e7",
   "metadata": {},
   "outputs": [
    {
     "data": {
      "text/plain": [
       "6"
      ]
     },
     "execution_count": 45,
     "metadata": {},
     "output_type": "execute_result"
    }
   ],
   "source": [
    "# Product\n",
    "arr5.prod()"
   ]
  },
  {
   "cell_type": "markdown",
   "id": "1e33ea74",
   "metadata": {},
   "source": [
    "### ARRAY MANIPULATION"
   ]
  },
  {
   "cell_type": "code",
   "execution_count": 46,
   "id": "caca327c",
   "metadata": {},
   "outputs": [
    {
     "data": {
      "text/plain": [
       "array([[1, 3],\n",
       "       [2, 4]])"
      ]
     },
     "execution_count": 46,
     "metadata": {},
     "output_type": "execute_result"
    }
   ],
   "source": [
    "# Transposing an Array\n",
    "arr6 = np.array([[1, 2], [3, 4]])\n",
    "\n",
    "arr6.transpose()"
   ]
  },
  {
   "cell_type": "code",
   "execution_count": 47,
   "id": "011cde14",
   "metadata": {},
   "outputs": [
    {
     "data": {
      "text/plain": [
       "array([[1, 2],\n",
       "       [3, 4]])"
      ]
     },
     "execution_count": 47,
     "metadata": {},
     "output_type": "execute_result"
    }
   ],
   "source": [
    "# Reshaping an Array\n",
    "arr7 = np.array([1, 2, 3, 4])\n",
    "\n",
    "arr7.reshape((2, 2))"
   ]
  },
  {
   "cell_type": "code",
   "execution_count": 48,
   "id": "c370adc5",
   "metadata": {},
   "outputs": [
    {
     "data": {
      "text/plain": [
       "array([1, 2, 3, 4])"
      ]
     },
     "execution_count": 48,
     "metadata": {},
     "output_type": "execute_result"
    }
   ],
   "source": [
    "# Flattening an Array\n",
    "arr8 = np.array([[1, 2], [3, 4]])\n",
    "\n",
    "arr8.flatten()"
   ]
  },
  {
   "cell_type": "markdown",
   "id": "96701379",
   "metadata": {},
   "source": [
    "### ITERATING"
   ]
  },
  {
   "cell_type": "code",
   "execution_count": 49,
   "id": "350f9de8",
   "metadata": {},
   "outputs": [
    {
     "name": "stdout",
     "output_type": "stream",
     "text": [
      "1\n",
      "2\n",
      "3\n",
      "4\n"
     ]
    }
   ],
   "source": [
    "arr9 = np.array([[1, 2], [3, 4]])\n",
    "\n",
    "for x in np.nditer(arr9):\n",
    "    print(x)"
   ]
  },
  {
   "cell_type": "markdown",
   "id": "96de7560",
   "metadata": {},
   "source": [
    "### MASKING"
   ]
  },
  {
   "cell_type": "code",
   "execution_count": 50,
   "id": "b9a58c9d",
   "metadata": {},
   "outputs": [
    {
     "data": {
      "text/plain": [
       "array([4, 5, 6])"
      ]
     },
     "execution_count": 50,
     "metadata": {},
     "output_type": "execute_result"
    }
   ],
   "source": [
    "arr10 = np.array([1, 2, 3, 4, 5, 6])\n",
    "\n",
    "arr10[arr10 > 3]"
   ]
  },
  {
   "cell_type": "markdown",
   "id": "d6cafd04",
   "metadata": {},
   "source": [
    "### MESHGRID"
   ]
  },
  {
   "cell_type": "code",
   "execution_count": 51,
   "id": "ef8a0069",
   "metadata": {},
   "outputs": [
    {
     "name": "stdout",
     "output_type": "stream",
     "text": [
      "[[1 2 3]\n",
      " [1 2 3]\n",
      " [1 2 3]] [[4 4 4]\n",
      " [5 5 5]\n",
      " [6 6 6]]\n"
     ]
    }
   ],
   "source": [
    "x = np.array([1, 2, 3])\n",
    "y = np.array([4, 5, 6])\n",
    "\n",
    "X, Y = np.meshgrid(x, y)\n",
    "print(X, Y)"
   ]
  }
 ],
 "metadata": {
  "kernelspec": {
   "display_name": "Python 3 (ipykernel)",
   "language": "python",
   "name": "python3"
  },
  "language_info": {
   "codemirror_mode": {
    "name": "ipython",
    "version": 3
   },
   "file_extension": ".py",
   "mimetype": "text/x-python",
   "name": "python",
   "nbconvert_exporter": "python",
   "pygments_lexer": "ipython3",
   "version": "3.11.0"
  }
 },
 "nbformat": 4,
 "nbformat_minor": 5
}
